{
 "cells": [
  {
   "cell_type": "code",
   "execution_count": 472,
   "id": "f374fe59-194a-486f-ae9c-a1e7594c763a",
   "metadata": {},
   "outputs": [],
   "source": [
    "import numpy as np \n",
    "import pandas as pd \n",
    "import matplotlib.pyplot as plt\n",
    "import copy"
   ]
  },
  {
   "cell_type": "markdown",
   "id": "9aae3ef3-35e7-4d45-b2c8-6476c74a5369",
   "metadata": {},
   "source": [
    "### Data Processing "
   ]
  },
  {
   "cell_type": "code",
   "execution_count": 473,
   "id": "9fb1ae28-1578-45cd-ac2c-3b4d56144e48",
   "metadata": {},
   "outputs": [],
   "source": [
    "data = pd.read_csv('data.csv.xls')"
   ]
  },
  {
   "cell_type": "code",
   "execution_count": 474,
   "id": "618cd6f9-41d7-414a-83a2-5f912dd013f3",
   "metadata": {},
   "outputs": [
    {
     "data": {
      "text/html": [
       "<div>\n",
       "<style scoped>\n",
       "    .dataframe tbody tr th:only-of-type {\n",
       "        vertical-align: middle;\n",
       "    }\n",
       "\n",
       "    .dataframe tbody tr th {\n",
       "        vertical-align: top;\n",
       "    }\n",
       "\n",
       "    .dataframe thead th {\n",
       "        text-align: right;\n",
       "    }\n",
       "</style>\n",
       "<table border=\"1\" class=\"dataframe\">\n",
       "  <thead>\n",
       "    <tr style=\"text-align: right;\">\n",
       "      <th></th>\n",
       "      <th>date</th>\n",
       "      <th>price</th>\n",
       "      <th>bedrooms</th>\n",
       "      <th>bathrooms</th>\n",
       "      <th>sqft_living</th>\n",
       "      <th>sqft_lot</th>\n",
       "      <th>floors</th>\n",
       "      <th>waterfront</th>\n",
       "      <th>view</th>\n",
       "      <th>condition</th>\n",
       "      <th>sqft_above</th>\n",
       "      <th>sqft_basement</th>\n",
       "      <th>yr_built</th>\n",
       "      <th>yr_renovated</th>\n",
       "      <th>street</th>\n",
       "      <th>city</th>\n",
       "      <th>statezip</th>\n",
       "      <th>country</th>\n",
       "    </tr>\n",
       "  </thead>\n",
       "  <tbody>\n",
       "    <tr>\n",
       "      <th>0</th>\n",
       "      <td>2014-05-02 00:00:00</td>\n",
       "      <td>3.130000e+05</td>\n",
       "      <td>3.0</td>\n",
       "      <td>1.50</td>\n",
       "      <td>1340</td>\n",
       "      <td>7912</td>\n",
       "      <td>1.5</td>\n",
       "      <td>0</td>\n",
       "      <td>0</td>\n",
       "      <td>3</td>\n",
       "      <td>1340</td>\n",
       "      <td>0</td>\n",
       "      <td>1955</td>\n",
       "      <td>2005</td>\n",
       "      <td>18810 Densmore Ave N</td>\n",
       "      <td>Shoreline</td>\n",
       "      <td>WA 98133</td>\n",
       "      <td>USA</td>\n",
       "    </tr>\n",
       "    <tr>\n",
       "      <th>1</th>\n",
       "      <td>2014-05-02 00:00:00</td>\n",
       "      <td>2.384000e+06</td>\n",
       "      <td>5.0</td>\n",
       "      <td>2.50</td>\n",
       "      <td>3650</td>\n",
       "      <td>9050</td>\n",
       "      <td>2.0</td>\n",
       "      <td>0</td>\n",
       "      <td>4</td>\n",
       "      <td>5</td>\n",
       "      <td>3370</td>\n",
       "      <td>280</td>\n",
       "      <td>1921</td>\n",
       "      <td>0</td>\n",
       "      <td>709 W Blaine St</td>\n",
       "      <td>Seattle</td>\n",
       "      <td>WA 98119</td>\n",
       "      <td>USA</td>\n",
       "    </tr>\n",
       "    <tr>\n",
       "      <th>2</th>\n",
       "      <td>2014-05-02 00:00:00</td>\n",
       "      <td>3.420000e+05</td>\n",
       "      <td>3.0</td>\n",
       "      <td>2.00</td>\n",
       "      <td>1930</td>\n",
       "      <td>11947</td>\n",
       "      <td>1.0</td>\n",
       "      <td>0</td>\n",
       "      <td>0</td>\n",
       "      <td>4</td>\n",
       "      <td>1930</td>\n",
       "      <td>0</td>\n",
       "      <td>1966</td>\n",
       "      <td>0</td>\n",
       "      <td>26206-26214 143rd Ave SE</td>\n",
       "      <td>Kent</td>\n",
       "      <td>WA 98042</td>\n",
       "      <td>USA</td>\n",
       "    </tr>\n",
       "    <tr>\n",
       "      <th>3</th>\n",
       "      <td>2014-05-02 00:00:00</td>\n",
       "      <td>4.200000e+05</td>\n",
       "      <td>3.0</td>\n",
       "      <td>2.25</td>\n",
       "      <td>2000</td>\n",
       "      <td>8030</td>\n",
       "      <td>1.0</td>\n",
       "      <td>0</td>\n",
       "      <td>0</td>\n",
       "      <td>4</td>\n",
       "      <td>1000</td>\n",
       "      <td>1000</td>\n",
       "      <td>1963</td>\n",
       "      <td>0</td>\n",
       "      <td>857 170th Pl NE</td>\n",
       "      <td>Bellevue</td>\n",
       "      <td>WA 98008</td>\n",
       "      <td>USA</td>\n",
       "    </tr>\n",
       "    <tr>\n",
       "      <th>4</th>\n",
       "      <td>2014-05-02 00:00:00</td>\n",
       "      <td>5.500000e+05</td>\n",
       "      <td>4.0</td>\n",
       "      <td>2.50</td>\n",
       "      <td>1940</td>\n",
       "      <td>10500</td>\n",
       "      <td>1.0</td>\n",
       "      <td>0</td>\n",
       "      <td>0</td>\n",
       "      <td>4</td>\n",
       "      <td>1140</td>\n",
       "      <td>800</td>\n",
       "      <td>1976</td>\n",
       "      <td>1992</td>\n",
       "      <td>9105 170th Ave NE</td>\n",
       "      <td>Redmond</td>\n",
       "      <td>WA 98052</td>\n",
       "      <td>USA</td>\n",
       "    </tr>\n",
       "    <tr>\n",
       "      <th>...</th>\n",
       "      <td>...</td>\n",
       "      <td>...</td>\n",
       "      <td>...</td>\n",
       "      <td>...</td>\n",
       "      <td>...</td>\n",
       "      <td>...</td>\n",
       "      <td>...</td>\n",
       "      <td>...</td>\n",
       "      <td>...</td>\n",
       "      <td>...</td>\n",
       "      <td>...</td>\n",
       "      <td>...</td>\n",
       "      <td>...</td>\n",
       "      <td>...</td>\n",
       "      <td>...</td>\n",
       "      <td>...</td>\n",
       "      <td>...</td>\n",
       "      <td>...</td>\n",
       "    </tr>\n",
       "    <tr>\n",
       "      <th>4595</th>\n",
       "      <td>2014-07-09 00:00:00</td>\n",
       "      <td>3.081667e+05</td>\n",
       "      <td>3.0</td>\n",
       "      <td>1.75</td>\n",
       "      <td>1510</td>\n",
       "      <td>6360</td>\n",
       "      <td>1.0</td>\n",
       "      <td>0</td>\n",
       "      <td>0</td>\n",
       "      <td>4</td>\n",
       "      <td>1510</td>\n",
       "      <td>0</td>\n",
       "      <td>1954</td>\n",
       "      <td>1979</td>\n",
       "      <td>501 N 143rd St</td>\n",
       "      <td>Seattle</td>\n",
       "      <td>WA 98133</td>\n",
       "      <td>USA</td>\n",
       "    </tr>\n",
       "    <tr>\n",
       "      <th>4596</th>\n",
       "      <td>2014-07-09 00:00:00</td>\n",
       "      <td>5.343333e+05</td>\n",
       "      <td>3.0</td>\n",
       "      <td>2.50</td>\n",
       "      <td>1460</td>\n",
       "      <td>7573</td>\n",
       "      <td>2.0</td>\n",
       "      <td>0</td>\n",
       "      <td>0</td>\n",
       "      <td>3</td>\n",
       "      <td>1460</td>\n",
       "      <td>0</td>\n",
       "      <td>1983</td>\n",
       "      <td>2009</td>\n",
       "      <td>14855 SE 10th Pl</td>\n",
       "      <td>Bellevue</td>\n",
       "      <td>WA 98007</td>\n",
       "      <td>USA</td>\n",
       "    </tr>\n",
       "    <tr>\n",
       "      <th>4597</th>\n",
       "      <td>2014-07-09 00:00:00</td>\n",
       "      <td>4.169042e+05</td>\n",
       "      <td>3.0</td>\n",
       "      <td>2.50</td>\n",
       "      <td>3010</td>\n",
       "      <td>7014</td>\n",
       "      <td>2.0</td>\n",
       "      <td>0</td>\n",
       "      <td>0</td>\n",
       "      <td>3</td>\n",
       "      <td>3010</td>\n",
       "      <td>0</td>\n",
       "      <td>2009</td>\n",
       "      <td>0</td>\n",
       "      <td>759 Ilwaco Pl NE</td>\n",
       "      <td>Renton</td>\n",
       "      <td>WA 98059</td>\n",
       "      <td>USA</td>\n",
       "    </tr>\n",
       "    <tr>\n",
       "      <th>4598</th>\n",
       "      <td>2014-07-10 00:00:00</td>\n",
       "      <td>2.034000e+05</td>\n",
       "      <td>4.0</td>\n",
       "      <td>2.00</td>\n",
       "      <td>2090</td>\n",
       "      <td>6630</td>\n",
       "      <td>1.0</td>\n",
       "      <td>0</td>\n",
       "      <td>0</td>\n",
       "      <td>3</td>\n",
       "      <td>1070</td>\n",
       "      <td>1020</td>\n",
       "      <td>1974</td>\n",
       "      <td>0</td>\n",
       "      <td>5148 S Creston St</td>\n",
       "      <td>Seattle</td>\n",
       "      <td>WA 98178</td>\n",
       "      <td>USA</td>\n",
       "    </tr>\n",
       "    <tr>\n",
       "      <th>4599</th>\n",
       "      <td>2014-07-10 00:00:00</td>\n",
       "      <td>2.206000e+05</td>\n",
       "      <td>3.0</td>\n",
       "      <td>2.50</td>\n",
       "      <td>1490</td>\n",
       "      <td>8102</td>\n",
       "      <td>2.0</td>\n",
       "      <td>0</td>\n",
       "      <td>0</td>\n",
       "      <td>4</td>\n",
       "      <td>1490</td>\n",
       "      <td>0</td>\n",
       "      <td>1990</td>\n",
       "      <td>0</td>\n",
       "      <td>18717 SE 258th St</td>\n",
       "      <td>Covington</td>\n",
       "      <td>WA 98042</td>\n",
       "      <td>USA</td>\n",
       "    </tr>\n",
       "  </tbody>\n",
       "</table>\n",
       "<p>4600 rows × 18 columns</p>\n",
       "</div>"
      ],
      "text/plain": [
       "                     date         price  bedrooms  bathrooms  sqft_living  \\\n",
       "0     2014-05-02 00:00:00  3.130000e+05       3.0       1.50         1340   \n",
       "1     2014-05-02 00:00:00  2.384000e+06       5.0       2.50         3650   \n",
       "2     2014-05-02 00:00:00  3.420000e+05       3.0       2.00         1930   \n",
       "3     2014-05-02 00:00:00  4.200000e+05       3.0       2.25         2000   \n",
       "4     2014-05-02 00:00:00  5.500000e+05       4.0       2.50         1940   \n",
       "...                   ...           ...       ...        ...          ...   \n",
       "4595  2014-07-09 00:00:00  3.081667e+05       3.0       1.75         1510   \n",
       "4596  2014-07-09 00:00:00  5.343333e+05       3.0       2.50         1460   \n",
       "4597  2014-07-09 00:00:00  4.169042e+05       3.0       2.50         3010   \n",
       "4598  2014-07-10 00:00:00  2.034000e+05       4.0       2.00         2090   \n",
       "4599  2014-07-10 00:00:00  2.206000e+05       3.0       2.50         1490   \n",
       "\n",
       "      sqft_lot  floors  waterfront  view  condition  sqft_above  \\\n",
       "0         7912     1.5           0     0          3        1340   \n",
       "1         9050     2.0           0     4          5        3370   \n",
       "2        11947     1.0           0     0          4        1930   \n",
       "3         8030     1.0           0     0          4        1000   \n",
       "4        10500     1.0           0     0          4        1140   \n",
       "...        ...     ...         ...   ...        ...         ...   \n",
       "4595      6360     1.0           0     0          4        1510   \n",
       "4596      7573     2.0           0     0          3        1460   \n",
       "4597      7014     2.0           0     0          3        3010   \n",
       "4598      6630     1.0           0     0          3        1070   \n",
       "4599      8102     2.0           0     0          4        1490   \n",
       "\n",
       "      sqft_basement  yr_built  yr_renovated                    street  \\\n",
       "0                 0      1955          2005      18810 Densmore Ave N   \n",
       "1               280      1921             0           709 W Blaine St   \n",
       "2                 0      1966             0  26206-26214 143rd Ave SE   \n",
       "3              1000      1963             0           857 170th Pl NE   \n",
       "4               800      1976          1992         9105 170th Ave NE   \n",
       "...             ...       ...           ...                       ...   \n",
       "4595              0      1954          1979            501 N 143rd St   \n",
       "4596              0      1983          2009          14855 SE 10th Pl   \n",
       "4597              0      2009             0          759 Ilwaco Pl NE   \n",
       "4598           1020      1974             0         5148 S Creston St   \n",
       "4599              0      1990             0         18717 SE 258th St   \n",
       "\n",
       "           city  statezip country  \n",
       "0     Shoreline  WA 98133     USA  \n",
       "1       Seattle  WA 98119     USA  \n",
       "2          Kent  WA 98042     USA  \n",
       "3      Bellevue  WA 98008     USA  \n",
       "4       Redmond  WA 98052     USA  \n",
       "...         ...       ...     ...  \n",
       "4595    Seattle  WA 98133     USA  \n",
       "4596   Bellevue  WA 98007     USA  \n",
       "4597     Renton  WA 98059     USA  \n",
       "4598    Seattle  WA 98178     USA  \n",
       "4599  Covington  WA 98042     USA  \n",
       "\n",
       "[4600 rows x 18 columns]"
      ]
     },
     "execution_count": 474,
     "metadata": {},
     "output_type": "execute_result"
    }
   ],
   "source": [
    "data"
   ]
  },
  {
   "cell_type": "code",
   "execution_count": 475,
   "id": "f8651d71-d354-40fa-871f-12514a172489",
   "metadata": {},
   "outputs": [],
   "source": [
    "x_data = data['sqft_living']\n",
    "y_data = data['price']\n"
   ]
  },
  {
   "cell_type": "code",
   "execution_count": 476,
   "id": "f0a8e9a5-05e0-4441-a3da-6996a51add06",
   "metadata": {},
   "outputs": [
    {
     "data": {
      "text/plain": [
       "0       1340\n",
       "1       3650\n",
       "2       1930\n",
       "3       2000\n",
       "4       1940\n",
       "        ... \n",
       "4595    1510\n",
       "4596    1460\n",
       "4597    3010\n",
       "4598    2090\n",
       "4599    1490\n",
       "Name: sqft_living, Length: 4600, dtype: int64"
      ]
     },
     "execution_count": 476,
     "metadata": {},
     "output_type": "execute_result"
    }
   ],
   "source": [
    "x_data"
   ]
  },
  {
   "cell_type": "code",
   "execution_count": 477,
   "id": "bf2afd7f-cdbf-4c7b-985f-137079e293fc",
   "metadata": {},
   "outputs": [
    {
     "data": {
      "text/plain": [
       "0       3.130000e+05\n",
       "1       2.384000e+06\n",
       "2       3.420000e+05\n",
       "3       4.200000e+05\n",
       "4       5.500000e+05\n",
       "            ...     \n",
       "4595    3.081667e+05\n",
       "4596    5.343333e+05\n",
       "4597    4.169042e+05\n",
       "4598    2.034000e+05\n",
       "4599    2.206000e+05\n",
       "Name: price, Length: 4600, dtype: float64"
      ]
     },
     "execution_count": 477,
     "metadata": {},
     "output_type": "execute_result"
    }
   ],
   "source": [
    " y_data"
   ]
  },
  {
   "cell_type": "code",
   "execution_count": 478,
   "id": "f9bad5e9-4fa2-4188-9e2a-a0a1c8df538a",
   "metadata": {},
   "outputs": [
    {
     "data": {
      "text/plain": [
       "(4600, 4600)"
      ]
     },
     "execution_count": 478,
     "metadata": {},
     "output_type": "execute_result"
    }
   ],
   "source": [
    "len(x_data) , len(y_data)"
   ]
  },
  {
   "cell_type": "code",
   "execution_count": 479,
   "id": "044e3b61-081b-4114-8cb4-955d41689e09",
   "metadata": {},
   "outputs": [
    {
     "data": {
      "text/plain": [
       "Index([1351, 1687, 1297, 2101, 3920, 3313, 4102, 3836,  394,  219,\n",
       "       ...\n",
       "       2448, 3700, 1021, 2000, 1447, 4487, 2215, 3634, 3531, 3955],\n",
       "      dtype='int64', length=920)"
      ]
     },
     "execution_count": 479,
     "metadata": {},
     "output_type": "execute_result"
    }
   ],
   "source": [
    "x_data.sample(frac=0.2, random_state=1).index"
   ]
  },
  {
   "cell_type": "code",
   "execution_count": 480,
   "id": "e65226c2-3d85-4e7c-9fb0-c5807678a472",
   "metadata": {},
   "outputs": [
    {
     "data": {
      "text/plain": [
       "1351     389000.0\n",
       "1687    1000000.0\n",
       "1297     355000.0\n",
       "2101     390000.0\n",
       "3920     715000.0\n",
       "          ...    \n",
       "4487          0.0\n",
       "2215     315000.0\n",
       "3634    1165000.0\n",
       "3531     417000.0\n",
       "3955     609000.0\n",
       "Name: price, Length: 920, dtype: float64"
      ]
     },
     "execution_count": 480,
     "metadata": {},
     "output_type": "execute_result"
    }
   ],
   "source": [
    "y_data[x_data.sample(frac=0.2, random_state=1).index]"
   ]
  },
  {
   "cell_type": "markdown",
   "id": "f7ce8c25-0d32-4fbd-932f-247ec0d528e6",
   "metadata": {},
   "source": [
    "# 80% train, 20% validation : random selection "
   ]
  },
  {
   "cell_type": "code",
   "execution_count": 481,
   "id": "2f245f3d-17a2-4375-afcd-fca1da78d136",
   "metadata": {},
   "outputs": [],
   "source": [
    "def train_validation_split(x, y, validation_size=0.2, random_state=None):\n",
    "    x_validation = x.sample(frac=validation_size, random_state=random_state)\n",
    "    y_validation = y[x_validation.index]\n",
    "\n",
    "    x_train = x.drop(x_validation.index)\n",
    "    y_train = y.drop(y_validation.index)\n",
    "\n",
    "    return np.array(x_train), np.array(y_train), np.array(x_validation), np.array(y_validation)"
   ]
  },
  {
   "cell_type": "code",
   "execution_count": 482,
   "id": "029b9c62-a573-44bf-8092-91774f3a8815",
   "metadata": {},
   "outputs": [],
   "source": [
    "x_train, y_train, x_validation, y_validation = train_validation_split(x_data, y_data, validation_size=0.2, random_state=0)\n"
   ]
  },
  {
   "cell_type": "code",
   "execution_count": 483,
   "id": "6b586684-376f-4256-978a-f6e4bf467b3c",
   "metadata": {},
   "outputs": [
    {
     "data": {
      "text/plain": [
       "(3680, 920)"
      ]
     },
     "execution_count": 483,
     "metadata": {},
     "output_type": "execute_result"
    }
   ],
   "source": [
    "len(x_train), len(y_validation)"
   ]
  },
  {
   "cell_type": "code",
   "execution_count": 484,
   "id": "ac152f25-1a32-4385-be8d-ddc0387419cc",
   "metadata": {},
   "outputs": [
    {
     "data": {
      "text/plain": [
       "(920, 920)"
      ]
     },
     "execution_count": 484,
     "metadata": {},
     "output_type": "execute_result"
    }
   ],
   "source": [
    "len(x_validation), len(y_validation)"
   ]
  },
  {
   "cell_type": "code",
   "execution_count": 485,
   "id": "574a6f84-daf3-43af-9a34-caedbe214033",
   "metadata": {},
   "outputs": [
    {
     "data": {
      "text/plain": [
       "array([1340, 1930, 2000, ..., 3010, 2090, 1490], shape=(3680,))"
      ]
     },
     "execution_count": 485,
     "metadata": {},
     "output_type": "execute_result"
    }
   ],
   "source": [
    "x_train"
   ]
  },
  {
   "cell_type": "code",
   "execution_count": 486,
   "id": "975638ad-b8a9-4978-b0af-0596b74b15b3",
   "metadata": {},
   "outputs": [
    {
     "data": {
      "text/plain": [
       "array([313000.      , 342000.      , 420000.      , ..., 416904.166667,\n",
       "       203400.      , 220600.      ], shape=(3680,))"
      ]
     },
     "execution_count": 486,
     "metadata": {},
     "output_type": "execute_result"
    }
   ],
   "source": [
    "y_train"
   ]
  },
  {
   "cell_type": "code",
   "execution_count": 487,
   "id": "0e9345e7-1bcd-4cf3-bdfc-ded6a92d9020",
   "metadata": {},
   "outputs": [
    {
     "data": {
      "text/plain": [
       "<function matplotlib.pyplot.show(close=None, block=None)>"
      ]
     },
     "execution_count": 487,
     "metadata": {},
     "output_type": "execute_result"
    },
    {
     "data": {
      "image/png": "[encoded data removed]",
      "text/plain": [
       "<Figure size 640x480 with 1 Axes>"
      ]
     },
     "metadata": {},
     "output_type": "display_data"
    }
   ],
   "source": [
    "plt.scatter(x_data, y_data)\n",
    "plt.title(\"Train Data: House Size vs Price\")\n",
    "plt.xlabel(\"Size of house in living m²\") \n",
    "plt.ylabel(\"Price\")\n",
    "plt.show"
   ]
  },
  {
   "cell_type": "code",
   "execution_count": 488,
   "id": "494e9fb0-2d53-49d2-8f02-971da15d5119",
   "metadata": {},
   "outputs": [
    {
     "data": {
      "text/plain": [
       "(3680,)"
      ]
     },
     "execution_count": 488,
     "metadata": {},
     "output_type": "execute_result"
    }
   ],
   "source": [
    "x_train.shape"
   ]
  },
  {
   "cell_type": "markdown",
   "id": "2460b65b-66da-4d31-8d1e-34eb88407f4d",
   "metadata": {},
   "source": [
    "###  Train "
   ]
  },
  {
   "cell_type": "code",
   "execution_count": 489,
   "id": "aaad8329-c859-42af-92bb-e37e53170325",
   "metadata": {},
   "outputs": [],
   "source": [
    "def compute_cost(x, y, w ,b):\n",
    "    m = x.shape[0]  \n",
    "    cost = 0 \n",
    "    for i in range(0,m):\n",
    "        f_wb = w * x[i] + b\n",
    "        cost += (f_wb - y[i])**2\n",
    "    total_cost = cost / (2 * m)\n",
    "    return total_cost \n",
    "                \n",
    "        "
   ]
  },
  {
   "cell_type": "code",
   "execution_count": 490,
   "id": "5e73364a-2fda-4b9b-add9-5a58b703ffb4",
   "metadata": {},
   "outputs": [
    {
     "name": "stdout",
     "output_type": "stream",
     "text": [
      "324701769588.9219\n"
     ]
    }
   ],
   "source": [
    "print(float(compute_cost(x = x_train, y = y_train, w = 5, b = 10) ))"
   ]
  },
  {
   "cell_type": "code",
   "execution_count": 491,
   "id": "f0614222-dc5a-48c1-9e51-d8365787863d",
   "metadata": {},
   "outputs": [],
   "source": [
    "def compute_gradient(x, y, w, b):\n",
    "    m = x.shape[0]\n",
    "    #partial derivative\n",
    "    dj_dw = 0 \n",
    "    dj_db = 0 \n",
    "\n",
    "    for i in range(0,m):\n",
    "        # calc function \n",
    "        f_wb = w * x[i] + b\n",
    "        dj_dw += (f_wb - y[i]) * x[i]\n",
    "        dj_db += (f_wb - y[i])\n",
    "    dj_dw = dj_dw / m\n",
    "    dj_db = dj_db / m\n",
    "\n",
    "    return dj_dw, dj_db"
   ]
  },
  {
   "cell_type": "code",
   "execution_count": 492,
   "id": "cae83a9a-aa25-4500-acd7-da6e29e47afe",
   "metadata": {},
   "outputs": [
    {
     "name": "stdout",
     "output_type": "stream",
     "text": [
      "dj_dw = -1346662660.66, dj_db = -529147.04\n"
     ]
    }
   ],
   "source": [
    "dj_dw, dj_db = compute_gradient(x_train, y_train, w=10, b=1)\n",
    "print(f\"dj_dw = {dj_dw:.2f}, dj_db = {dj_db:.2f}\")\n"
   ]
  },
  {
   "cell_type": "code",
   "execution_count": 493,
   "id": "40cdbca3-132a-4bea-b348-1717e534bf50",
   "metadata": {},
   "outputs": [],
   "source": [
    "def gradient_descent(x, y, w_in, b_in, alpha, numb_iters, cost_function, gradient_function):\n",
    "    \n",
    "    #pass by object reference \n",
    "    #shallow copy -> still references to the same inner objects.\n",
    "                            #vs\n",
    "    #deep copy -> independent clone of the original object\n",
    "    \n",
    "    w = copy.deepcopy(w_in)\n",
    "    b = copy.deepcopy(b_in)\n",
    "\n",
    "    # cost function eveolution - loss\n",
    "    J_history = []\n",
    "\n",
    "    for i in range (0, numb_iters):\n",
    "        dj_dw, dj_db = gradient_function(x, y, w, b)\n",
    "\n",
    "        w = w - alpha * dj_dw \n",
    "        b = b - alpha * dj_db \n",
    "\n",
    "        J_history.append(cost_function(x, y, w, b))\n",
    "        print(f\"Iteration: {i} | Cost: {J_history[i]:.4f} | dj_dw: {dj_dw:.4f} | dj_db: {dj_db:.4f} | w: {w:.4f} | b: {b:.4f}\")\n",
    "\n",
    "    return w, b, J_history\n",
    "    \n",
    "    \n",
    "    "
   ]
  },
  {
   "cell_type": "code",
   "execution_count": 494,
   "id": "8b4db27f-96e9-4ecb-8e9d-e1afa9466710",
   "metadata": {},
   "outputs": [
    {
     "name": "stdout",
     "output_type": "stream",
     "text": [
      "Iteration: 0 | Cost: 225559718239.4321 | dj_dw: -1401326345.0360 | dj_db: -550444.3705 | w: 420.3979 | b: 0.1651\n",
      "Iteration: 1 | Cost: 182127781493.9608 | dj_dw: 896634308.3630 | dj_db: 344849.1070 | w: 151.4076 | b: 0.0617\n",
      "Iteration: 2 | Cost: 164346570937.4908 | dj_dw: -573708671.9308 | dj_db: -228001.6410 | w: 323.5202 | b: 0.1301\n",
      "Iteration: 3 | Cost: 157066871420.5717 | dj_dw: 367085713.0825 | dj_db: 138535.1297 | w: 213.3945 | b: 0.0885\n",
      "Iteration: 4 | Cost: 154086532993.9097 | dj_dw: -234878649.4744 | dj_db: -95992.2832 | w: 283.8581 | b: 0.1173\n",
      "Iteration: 5 | Cost: 152866370385.2603 | dj_dw: 150286376.5513 | dj_db: 54069.3532 | w: 238.7722 | b: 0.1011\n",
      "Iteration: 6 | Cost: 152366830875.0846 | dj_dw: -96160267.9697 | dj_db: -41947.1179 | w: 267.6203 | b: 0.1137\n",
      "Iteration: 7 | Cost: 152162317375.7989 | dj_dw: 61527851.3862 | dj_db: 19488.7230 | w: 249.1619 | b: 0.1078\n",
      "Iteration: 8 | Cost: 152078588718.5286 | dj_dw: -39368401.5708 | dj_db: -19820.8085 | w: 260.9724 | b: 0.1138\n",
      "Iteration: 9 | Cost: 152044309864.0627 | dj_dw: 25189752.2226 | dj_db: 5331.2734 | w: 253.4155 | b: 0.1122\n",
      "Iteration: 10 | Cost: 152030275958.8520 | dj_dw: -16117581.7870 | dj_db: -10762.2076 | w: 258.2508 | b: 0.1154\n",
      "Iteration: 11 | Cost: 152024530417.7415 | dj_dw: 10312787.4649 | dj_db: -464.8434 | w: 255.1569 | b: 0.1155\n",
      "Iteration: 12 | Cost: 152022178166.4146 | dj_dw: -6598602.1356 | dj_db: -7053.5795 | w: 257.1365 | b: 0.1177\n",
      "Iteration: 13 | Cost: 152021215141.6476 | dj_dw: 4222097.9270 | dj_db: -2837.7968 | w: 255.8699 | b: 0.1185\n",
      "Iteration: 14 | Cost: 152020820871.8529 | dj_dw: -2701493.3692 | dj_db: -5535.2519 | w: 256.6803 | b: 0.1202\n",
      "Iteration: 15 | Cost: 152020659452.6440 | dj_dw: 1728544.9980 | dj_db: -3809.2933 | w: 256.1618 | b: 0.1213\n",
      "Iteration: 16 | Cost: 152020593363.4067 | dj_dw: -1106001.2794 | dj_db: -4913.6422 | w: 256.4936 | b: 0.1228\n",
      "Iteration: 17 | Cost: 152020566302.6452 | dj_dw: 707674.3443 | dj_db: -4207.0276 | w: 256.2813 | b: 0.1241\n",
      "Iteration: 18 | Cost: 152020555220.2997 | dj_dw: -452800.3652 | dj_db: -4659.1523 | w: 256.4171 | b: 0.1255\n",
      "Iteration: 19 | Cost: 152020550679.5822 | dj_dw: 289725.7700 | dj_db: -4369.8613 | w: 256.3302 | b: 0.1268\n",
      "(w,b) found by gradient descent (256.3302, 0.1268)\n"
     ]
    }
   ],
   "source": [
    "w_init = 0 \n",
    "b_init = 0 \n",
    "\n",
    "iterations = 20  #training steps\n",
    "alpha = 3.0e-7 #slow learning -> small learning rate , a bigger value => overshooting \n",
    "\n",
    "w_final, b_final ,J_history = gradient_descent(x=x_train, y=y_train,\n",
    "                                               alpha=alpha,\n",
    "                                               w_in=w_init,\n",
    "                                               b_in=b_init,\n",
    "                                               numb_iters=iterations,\n",
    "                                               cost_function=compute_cost,\n",
    "                                               gradient_function=compute_gradient)\n",
    "print(f\"(w,b) found by gradient descent ({w_final:.4f}, {b_final:.4f})\")\n"
   ]
  },
  {
   "cell_type": "markdown",
   "id": "fac23046-47bd-44dd-88f2-6631aebcc8fa",
   "metadata": {},
   "source": [
    "### Metrics "
   ]
  },
  {
   "cell_type": "code",
   "execution_count": 495,
   "id": "d5db5cd4-dac9-4ec4-97a3-242e1aed09be",
   "metadata": {},
   "outputs": [
    {
     "data": {
      "text/plain": [
       "[np.float64(225559718239.4321),\n",
       " np.float64(182127781493.96085),\n",
       " np.float64(164346570937.49078),\n",
       " np.float64(157066871420.5717),\n",
       " np.float64(154086532993.90967),\n",
       " np.float64(152866370385.26025),\n",
       " np.float64(152366830875.08463),\n",
       " np.float64(152162317375.79886),\n",
       " np.float64(152078588718.52863),\n",
       " np.float64(152044309864.0627),\n",
       " np.float64(152030275958.852),\n",
       " np.float64(152024530417.74155),\n",
       " np.float64(152022178166.4146),\n",
       " np.float64(152021215141.6476),\n",
       " np.float64(152020820871.85294),\n",
       " np.float64(152020659452.644),\n",
       " np.float64(152020593363.40674),\n",
       " np.float64(152020566302.6452),\n",
       " np.float64(152020555220.29965),\n",
       " np.float64(152020550679.58224)]"
      ]
     },
     "execution_count": 495,
     "metadata": {},
     "output_type": "execute_result"
    }
   ],
   "source": [
    "J_history"
   ]
  },
  {
   "cell_type": "code",
   "execution_count": 496,
   "id": "604a36e6-b295-4c2f-8b0f-41b01be58132",
   "metadata": {},
   "outputs": [
    {
     "data": {
      "text/plain": [
       "<function matplotlib.pyplot.show(close=None, block=None)>"
      ]
     },
     "execution_count": 496,
     "metadata": {},
     "output_type": "execute_result"
    },
    {
     "data": {
      "image/png": "[encoded data removed]",
      "text/plain": [
       "<Figure size 640x480 with 1 Axes>"
      ]
     },
     "metadata": {},
     "output_type": "display_data"
    }
   ],
   "source": [
    "plt.plot(J_history)\n",
    "plt.title(\"Loss evolution (Cost Function per iteration)\")\n",
    "plt.xlabel(\"Iteration number\")\n",
    "plt.ylabel(\"Cost Function\")\n",
    "plt.show"
   ]
  },
  {
   "cell_type": "code",
   "execution_count": 497,
   "id": "0a9e4b40-1219-4bed-8f13-fe66495498b6",
   "metadata": {},
   "outputs": [],
   "source": [
    "#measures how well a regression model explains the variance in the target variable\n",
    "def r2_score(y, y_):\n",
    "    num = np.sum((y - y_)**2)\n",
    "    denom = np.sum((y - y.mean())**2)\n",
    "    score = 1 - num/denom \n",
    "    return score \n",
    "    "
   ]
  },
  {
   "cell_type": "code",
   "execution_count": 498,
   "id": "f1a60c21-666d-4ac6-968e-7e82b808ca5e",
   "metadata": {},
   "outputs": [],
   "source": [
    "y_predicted_train = [w_final * i + b_final for i in x_train]"
   ]
  },
  {
   "cell_type": "code",
   "execution_count": 499,
   "id": "627e8183-6755-4a63-a3ef-4ab9514ed3fc",
   "metadata": {},
   "outputs": [
    {
     "data": {
      "text/plain": [
       "np.float64(0.15614914048056117)"
      ]
     },
     "execution_count": 499,
     "metadata": {},
     "output_type": "execute_result"
    }
   ],
   "source": [
    "r2_score(y_train , y_predicted_train) # (0,1) -> bigger is better "
   ]
  },
  {
   "cell_type": "code",
   "execution_count": 461,
   "id": "17e0df68-5f01-47c6-8b9a-0b206d6e6685",
   "metadata": {},
   "outputs": [],
   "source": [
    "y_predicted_validate = [w_final * i + b_final for i in x_validation]"
   ]
  },
  {
   "cell_type": "code",
   "execution_count": 462,
   "id": "ca29c68b-9fc9-4078-a06d-57ed4e258a71",
   "metadata": {},
   "outputs": [
    {
     "data": {
      "text/plain": [
       "np.float64(0.4638868052362356)"
      ]
     },
     "execution_count": 462,
     "metadata": {},
     "output_type": "execute_result"
    }
   ],
   "source": [
    "r2_score(y_validation, y_predicted_validate )"
   ]
  },
  {
   "cell_type": "code",
   "execution_count": 463,
   "id": "77c0a522-0c33-4756-9092-cde9a67abeda",
   "metadata": {},
   "outputs": [
    {
     "data": {
      "text/plain": [
       "<function matplotlib.pyplot.show(close=None, block=None)>"
      ]
     },
     "execution_count": 463,
     "metadata": {},
     "output_type": "execute_result"
    },
    {
     "data": {
      "image/png": "[encoded data removed]",
      "text/plain": [
       "<Figure size 640x480 with 1 Axes>"
      ]
     },
     "metadata": {},
     "output_type": "display_data"
    }
   ],
   "source": [
    "plt.scatter(x_validation, y_validation)\n",
    "plt.plot(x_train, w_final * x_train + b_final, c='r')\n",
    "plt.show "
   ]
  },
  {
   "cell_type": "code",
   "execution_count": 464,
   "id": "768a361f-e0b8-4fd5-861b-183a2890ac08",
   "metadata": {},
   "outputs": [
    {
     "data": {
      "text/plain": [
       "<function matplotlib.pyplot.show(close=None, block=None)>"
      ]
     },
     "execution_count": 464,
     "metadata": {},
     "output_type": "execute_result"
    },
    {
     "data": {
      "image/png": "[encoded data removed]",
      "text/plain": [
       "<Figure size 640x480 with 1 Axes>"
      ]
     },
     "metadata": {},
     "output_type": "display_data"
    }
   ],
   "source": [
    "plt.scatter(x_train, y_train)\n",
    "plt.plot(x_train, w_final * x_train + b_final, c='r')\n",
    "plt.show"
   ]
  },
  {
   "cell_type": "markdown",
   "id": "c4e0fca3-6070-4701-8db2-a8dc25547c13",
   "metadata": {},
   "source": [
    "### Prediction\n"
   ]
  },
  {
   "cell_type": "code",
   "execution_count": 465,
   "id": "ad5e19c9-e04f-46f4-8f29-3e7ac25aa52b",
   "metadata": {},
   "outputs": [],
   "source": [
    "x_train = np.array([30, 50, 60, 80, 100]) # x - size of house in mp \n",
    "y_train = np.array([70000, 100000, 120000, 150000, 200000]) # y - price of house "
   ]
  },
  {
   "cell_type": "code",
   "execution_count": 466,
   "id": "7af4ac4d-871a-4cc7-a9e3-8085b6f0d832",
   "metadata": {},
   "outputs": [
    {
     "name": "stdout",
     "output_type": "stream",
     "text": [
      "A house with size 20 m² has a price of: 4.985e+03$\n"
     ]
    }
   ],
   "source": [
    "size_of_house = 20\n",
    "print(f\"A house with size {size_of_house} m² has a price of: {w_final * size_of_house + b_final:.4}$\")"
   ]
  },
  {
   "cell_type": "code",
   "execution_count": 467,
   "id": "8efd317d-3dc5-466c-b9aa-f2c63aa591c1",
   "metadata": {},
   "outputs": [
    {
     "name": "stdout",
     "output_type": "stream",
     "text": [
      "A house with size 30 m² has a price of: 7.477e+03$\n"
     ]
    }
   ],
   "source": [
    "size_of_house = 30\n",
    "print(f\"A house with size {size_of_house} m² has a price of: {w_final * size_of_house + b_final:.4}$\")"
   ]
  },
  {
   "cell_type": "code",
   "execution_count": 468,
   "id": "1f72fd44-cff1-4f7a-9798-f119d2c2b2ac",
   "metadata": {},
   "outputs": [
    {
     "name": "stdout",
     "output_type": "stream",
     "text": [
      "A house with size 50 m² has a price of: 1.246e+04$\n"
     ]
    }
   ],
   "source": [
    "size_of_house = 50\n",
    "print(f\"A house with size {size_of_house} m² has a price of: {w_final * size_of_house + b_final:.4}$\")"
   ]
  },
  {
   "cell_type": "code",
   "execution_count": 469,
   "id": "ecae8899-2ef3-487a-8bc0-2145d9618547",
   "metadata": {},
   "outputs": [
    {
     "name": "stdout",
     "output_type": "stream",
     "text": [
      "A house with size 60 m² has a price of: 1.495e+04$\n"
     ]
    }
   ],
   "source": [
    "size_of_house = 60\n",
    "print(f\"A house with size {size_of_house} m² has a price of: {w_final * size_of_house + b_final:.4}$\")"
   ]
  },
  {
   "cell_type": "code",
   "execution_count": 470,
   "id": "799d19be-9543-4562-bdf1-a6e6fc0178b1",
   "metadata": {},
   "outputs": [
    {
     "name": "stdout",
     "output_type": "stream",
     "text": [
      "A house with size 4000 m² has a price of: 9.969e+05$\n"
     ]
    }
   ],
   "source": [
    "size_of_house = 4000\n",
    "print(f\"A house with size {size_of_house} m² has a price of: {w_final * size_of_house + b_final:.4}$\")"
   ]
  },
  {
   "cell_type": "code",
   "execution_count": 471,
   "id": "5f678288-2c4d-435e-b1c9-97ecddcbea3c",
   "metadata": {},
   "outputs": [
    {
     "data": {
      "text/plain": [
       "<function matplotlib.pyplot.show(close=None, block=None)>"
      ]
     },
     "execution_count": 471,
     "metadata": {},
     "output_type": "execute_result"
    },
    {
     "data": {
      "image/png": "[encoded data removed]",
      "text/plain": [
       "<Figure size 640x480 with 1 Axes>"
      ]
     },
     "metadata": {},
     "output_type": "display_data"
    }
   ],
   "source": [
    "plt.scatter(x_train, y_train)\n",
    "plt.plot(x_train, w_final * x_train + b_final, c='r')\n",
    "plt.show\n",
    "        "
   ]
  }
 ],
 "metadata": {
  "kernelspec": {
   "display_name": "Python 3 (ipykernel)",
   "language": "python",
   "name": "python3"
  },
  "language_info": {
   "codemirror_mode": {
    "name": "ipython",
    "version": 3
   },
   "file_extension": ".py",
   "mimetype": "text/x-python",
   "name": "python",
   "nbconvert_exporter": "python",
   "pygments_lexer": "ipython3",
   "version": "3.13.2"
  }
 },
 "nbformat": 4,
 "nbformat_minor": 5
}
