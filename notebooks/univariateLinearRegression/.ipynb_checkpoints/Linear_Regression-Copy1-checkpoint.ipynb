{
 "cells": [
  {
   "cell_type": "code",
   "execution_count": 43,
   "id": "f374fe59-194a-486f-ae9c-a1e7594c763a",
   "metadata": {},
   "outputs": [],
   "source": [
    "import numpy as np \n",
    "import pandas as pd \n",
    "import matplotlib.pyplot as plt\n",
    "import copy"
   ]
  },
  {
   "cell_type": "markdown",
   "id": "9aae3ef3-35e7-4d45-b2c8-6476c74a5369",
   "metadata": {},
   "source": [
    "### Data Processing "
   ]
  },
  {
   "cell_type": "code",
   "execution_count": 44,
   "id": "9fb1ae28-1578-45cd-ac2c-3b4d56144e48",
   "metadata": {},
   "outputs": [],
   "source": [
    "x_train = np.array([30, 50, 60, 80, 100]) # x - size of house in mp \n",
    "y_train = np.array([70000, 100000, 120000, 150000, 200000]) # y - price of house "
   ]
  },
  {
   "cell_type": "code",
   "execution_count": 45,
   "id": "618cd6f9-41d7-414a-83a2-5f912dd013f3",
   "metadata": {},
   "outputs": [
    {
     "name": "stdout",
     "output_type": "stream",
     "text": [
      "30 70000\n",
      "50 100000\n",
      "60 120000\n",
      "80 150000\n",
      "100 200000\n"
     ]
    }
   ],
   "source": [
    "for i, j in zip(x_train , y_train):\n",
    "    print(i,j)"
   ]
  },
  {
   "cell_type": "code",
   "execution_count": 46,
   "id": "f8651d71-d354-40fa-871f-12514a172489",
   "metadata": {},
   "outputs": [
    {
     "data": {
      "text/plain": [
       "(5, 5)"
      ]
     },
     "execution_count": 46,
     "metadata": {},
     "output_type": "execute_result"
    }
   ],
   "source": [
    "len(x_train) , len(y_train)"
   ]
  },
  {
   "cell_type": "code",
   "execution_count": 47,
   "id": "f0a8e9a5-05e0-4441-a3da-6996a51add06",
   "metadata": {},
   "outputs": [
    {
     "data": {
      "text/plain": [
       "(array([ 30,  50,  60,  80, 100]),\n",
       " array([ 70000, 100000, 120000, 150000, 200000]))"
      ]
     },
     "execution_count": 47,
     "metadata": {},
     "output_type": "execute_result"
    }
   ],
   "source": [
    "x_train , y_train "
   ]
  },
  {
   "cell_type": "code",
   "execution_count": 48,
   "id": "0e9345e7-1bcd-4cf3-bdfc-ded6a92d9020",
   "metadata": {},
   "outputs": [
    {
     "data": {
      "text/plain": [
       "<function matplotlib.pyplot.show(close=None, block=None)>"
      ]
     },
     "execution_count": 48,
     "metadata": {},
     "output_type": "execute_result"
    },
    {
     "data": {
      "image/png": "[encoded data removed]",
      "text/plain": [
       "<Figure size 640x480 with 1 Axes>"
      ]
     },
     "metadata": {},
     "output_type": "display_data"
    }
   ],
   "source": [
    "plt.scatter(x_train, y_train)\n",
    "plt.title(\"Train Data: House Size vs Price\")\n",
    "plt.xlabel(\"Size of house in m²\") \n",
    "plt.ylabel(\"Price\")\n",
    "plt.show"
   ]
  },
  {
   "cell_type": "markdown",
   "id": "2460b65b-66da-4d31-8d1e-34eb88407f4d",
   "metadata": {},
   "source": [
    "###  Train "
   ]
  },
  {
   "cell_type": "code",
   "execution_count": 49,
   "id": "aaad8329-c859-42af-92bb-e37e53170325",
   "metadata": {},
   "outputs": [],
   "source": [
    "def compute_cost(x, y, w ,b):\n",
    "    m = x.shape[0]  \n",
    "    cost = 0 \n",
    "    for i in range(0,m):\n",
    "        f_wb = w * x[i] + b\n",
    "        cost += (f_wb - y[i])**2\n",
    "    total_cost = cost / (2 * m)\n",
    "    return total_cost \n",
    "                \n",
    "        "
   ]
  },
  {
   "cell_type": "code",
   "execution_count": 50,
   "id": "5e73364a-2fda-4b9b-add9-5a58b703ffb4",
   "metadata": {},
   "outputs": [
    {
     "name": "stdout",
     "output_type": "stream",
     "text": [
      "9132481750.0\n"
     ]
    }
   ],
   "source": [
    "print(float(compute_cost(x = x_train, y = y_train, w = 5, b = 10) ))"
   ]
  },
  {
   "cell_type": "code",
   "execution_count": 51,
   "id": "f0614222-dc5a-48c1-9e51-d8365787863d",
   "metadata": {},
   "outputs": [],
   "source": [
    "def compute_gradient(x, y, w, b):\n",
    "    m = x.shape[0]\n",
    "    #partial derivative\n",
    "    dj_dw = 0 \n",
    "    dj_db = 0 \n",
    "\n",
    "    for i in range(0,m):\n",
    "        # calc function \n",
    "        f_wb = w * x[i] + b\n",
    "        dj_dw += (f_wb - y[i]) * x[i]\n",
    "        dj_db += (f_wb - y[i])\n",
    "    dj_dw = dj_dw / m\n",
    "    dj_db = dj_db / m\n",
    "\n",
    "    return dj_dw, dj_db"
   ]
  },
  {
   "cell_type": "code",
   "execution_count": 52,
   "id": "cae83a9a-aa25-4500-acd7-da6e29e47afe",
   "metadata": {},
   "outputs": [
    {
     "name": "stdout",
     "output_type": "stream",
     "text": [
      "dj_dw = -9213136.00, dj_db = -127359.00\n"
     ]
    }
   ],
   "source": [
    "dj_dw, dj_db = compute_gradient(x_train, y_train, w=10, b=1)\n",
    "print(f\"dj_dw = {dj_dw:.2f}, dj_db = {dj_db:.2f}\")\n"
   ]
  },
  {
   "cell_type": "code",
   "execution_count": 65,
   "id": "40cdbca3-132a-4bea-b348-1717e534bf50",
   "metadata": {},
   "outputs": [],
   "source": [
    "def gradient_descent(x, y, w_in, b_in, alpha, numb_iters, cost_function, gradient_function):\n",
    "    \n",
    "    #pass by object reference \n",
    "    #shallow copy -> still references to the same inner objects.\n",
    "                            #vs\n",
    "    #deep copy -> independent clone of the original object\n",
    "    \n",
    "    w = copy.deepcopy(w_in)\n",
    "    b = copy.deepcopy(b_in)\n",
    "\n",
    "    # cost function eveolution - loss\n",
    "    J_history = []\n",
    "\n",
    "    for i in range (0, numb_iters):\n",
    "        dj_dw, dj_db = gradient_function(x, y, w, b)\n",
    "\n",
    "        w = w - alpha * dj_dw \n",
    "        b = b - alpha * dj_db \n",
    "\n",
    "        J_history.append(cost_function(x, y, w, b))\n",
    "        print(f\"Iteration: {i} | Cost: {J_history[i]:.4f} | dj_dw: {dj_dw:.4f} | dj_db: {dj_db:.4f} | w: {w:.4f} | b: {b:.4f}\")\n",
    "\n",
    "    return w, b, J_history\n",
    "    \n",
    "    \n",
    "    "
   ]
  },
  {
   "cell_type": "code",
   "execution_count": 84,
   "id": "8b4db27f-96e9-4ecb-8e9d-e1afa9466710",
   "metadata": {},
   "outputs": [
    {
     "name": "stdout",
     "output_type": "stream",
     "text": [
      "Iteration: 0 | Cost: 1516077310.0800 | dj_dw: -9260000.0000 | dj_db: -128000.0000 | w: 2778.0000 | b: 38.4000\n",
      "Iteration: 1 | Cost: 263575550.7500 | dj_dw: 3743497.6000 | dj_db: 49830.4000 | w: 1654.9507 | b: 23.4509\n",
      "Iteration: 2 | Cost: 58880942.8087 | dj_dw: -1513329.7741 | dj_db: -22059.7030 | w: 2108.9497 | b: 30.0688\n",
      "Iteration: 3 | Cost: 25427599.2570 | dj_dw: 611808.7750 | dj_db: 7002.8465 | w: 1925.4070 | b: 27.9679\n",
      "Iteration: 4 | Cost: 19959911.8650 | dj_dw: -247305.1998 | dj_db: -4745.9828 | w: 1999.5986 | b: 29.3917\n",
      "Iteration: 5 | Cost: 19065870.6586 | dj_dw: 100002.4236 | dj_db: 3.7008 | w: 1969.5979 | b: 29.3906\n",
      "Iteration: 6 | Cost: 18919292.3714 | dj_dw: -40401.0502 | dj_db: -1916.3468 | w: 1981.7182 | b: 29.9655\n",
      "Iteration: 7 | Cost: 18894870.6583 | dj_dw: 16358.8181 | dj_db: -1140.0717 | w: 1976.8105 | b: 30.3075\n",
      "Iteration: 8 | Cost: 18890412.8124 | dj_dw: -6587.0731 | dj_db: -1453.8190 | w: 1978.7866 | b: 30.7437\n",
      "Iteration: 9 | Cost: 18889217.6608 | dj_dw: 2689.0909 | dj_db: -1326.9111 | w: 1977.9799 | b: 31.1418\n",
      "Iteration: 10 | Cost: 18888555.7605 | dj_dw: -1060.9160 | dj_db: -1378.1436 | w: 1978.2982 | b: 31.5552\n",
      "Iteration: 11 | Cost: 18887981.0434 | dj_dw: 455.0704 | dj_db: -1357.3605 | w: 1978.1617 | b: 31.9624\n",
      "Iteration: 12 | Cost: 18887420.6095 | dj_dw: -157.7871 | dj_db: -1365.6907 | w: 1978.2090 | b: 32.3721\n",
      "Iteration: 13 | Cost: 18886862.5448 | dj_dw: 89.9673 | dj_db: -1362.2514 | w: 1978.1820 | b: 32.7808\n",
      "Iteration: 14 | Cost: 18886304.9021 | dj_dw: -10.1915 | dj_db: -1363.5701 | w: 1978.1851 | b: 33.1899\n",
      "Iteration: 15 | Cost: 18885747.3634 | dj_dw: 30.2979 | dj_db: -1362.9654 | w: 1978.1760 | b: 33.5988\n",
      "Iteration: 16 | Cost: 18885189.8766 | dj_dw: 13.9286 | dj_db: -1363.1382 | w: 1978.1718 | b: 34.0077\n",
      "Iteration: 17 | Cost: 18884632.4331 | dj_dw: 20.5451 | dj_db: -1362.9967 | w: 1978.1656 | b: 34.4166\n",
      "Iteration: 18 | Cost: 18884075.0317 | dj_dw: 17.8693 | dj_db: -1362.9823 | w: 1978.1603 | b: 34.8255\n",
      "Iteration: 19 | Cost: 18883517.6720 | dj_dw: 18.9501 | dj_db: -1362.9165 | w: 1978.1546 | b: 35.2344\n",
      "(w,b) found by gradient descent (1978.1546, 35.2344)\n"
     ]
    }
   ],
   "source": [
    "w_init = 0 \n",
    "b_init = 0 \n",
    "\n",
    "iterations = 20  #training steps\n",
    "alpha = 3.0e-4 #slow learning -> small learning rate , a bigger value => overshooting \n",
    "\n",
    "w_final, b_final ,J_history = gradient_descent(x=x_train, y=y_train,\n",
    "                                               alpha=alpha,\n",
    "                                               w_in=w_init,\n",
    "                                               b_in=b_init,\n",
    "                                               numb_iters=iterations,\n",
    "                                               cost_function=compute_cost,\n",
    "                                               gradient_function=compute_gradient)\n",
    "print(f\"(w,b) found by gradient descent ({w_final:.4f}, {b_final:.4f})\")\n"
   ]
  },
  {
   "cell_type": "markdown",
   "id": "fac23046-47bd-44dd-88f2-6631aebcc8fa",
   "metadata": {},
   "source": [
    "### Metrics "
   ]
  },
  {
   "cell_type": "code",
   "execution_count": 85,
   "id": "d5db5cd4-dac9-4ec4-97a3-242e1aed09be",
   "metadata": {},
   "outputs": [
    {
     "data": {
      "text/plain": [
       "[np.float64(1516077310.0799985),\n",
       " np.float64(263575550.75001973),\n",
       " np.float64(58880942.8086731),\n",
       " np.float64(25427599.256992),\n",
       " np.float64(19959911.864977896),\n",
       " np.float64(19065870.658561178),\n",
       " np.float64(18919292.371351305),\n",
       " np.float64(18894870.658259764),\n",
       " np.float64(18890412.812352978),\n",
       " np.float64(18889217.66078383),\n",
       " np.float64(18888555.760492597),\n",
       " np.float64(18887981.043438334),\n",
       " np.float64(18887420.609509654),\n",
       " np.float64(18886862.544767972),\n",
       " np.float64(18886304.90213696),\n",
       " np.float64(18885747.36340665),\n",
       " np.float64(18885189.876569975),\n",
       " np.float64(18884632.433124974),\n",
       " np.float64(18884075.031679444),\n",
       " np.float64(18883517.672003355)]"
      ]
     },
     "execution_count": 85,
     "metadata": {},
     "output_type": "execute_result"
    }
   ],
   "source": [
    "J_history"
   ]
  },
  {
   "cell_type": "code",
   "execution_count": 86,
   "id": "604a36e6-b295-4c2f-8b0f-41b01be58132",
   "metadata": {},
   "outputs": [
    {
     "data": {
      "text/plain": [
       "<function matplotlib.pyplot.show(close=None, block=None)>"
      ]
     },
     "execution_count": 86,
     "metadata": {},
     "output_type": "execute_result"
    },
    {
     "data": {
      "image/png": "[encoded data removed]",
      "text/plain": [
       "<Figure size 640x480 with 1 Axes>"
      ]
     },
     "metadata": {},
     "output_type": "display_data"
    }
   ],
   "source": [
    "plt.plot(J_history)\n",
    "plt.title(\"Loss evolution (Cost Function per iteration)\")\n",
    "plt.xlabel(\"Iteration number\")\n",
    "plt.ylabel(\"Cost Function\")\n",
    "plt.show"
   ]
  },
  {
   "cell_type": "code",
   "execution_count": 108,
   "id": "0a9e4b40-1219-4bed-8f13-fe66495498b6",
   "metadata": {},
   "outputs": [],
   "source": [
    "#measures how well a regression model explains the variance in the target variable\n",
    "def r2_score(y, y_):\n",
    "    num = np.sum((y - y_)**2)\n",
    "    denom = np.sum((y - y.mean())**2)\n",
    "    score = 1 - num/denom \n",
    "    return score \n",
    "    "
   ]
  },
  {
   "cell_type": "code",
   "execution_count": 109,
   "id": "f1a60c21-666d-4ac6-968e-7e82b808ca5e",
   "metadata": {},
   "outputs": [],
   "source": [
    "y_ = [w_final * i + b_final for i in x_train]"
   ]
  },
  {
   "cell_type": "code",
   "execution_count": 110,
   "id": "67609c14-bd4a-4ffe-b69a-409b69a62a38",
   "metadata": {},
   "outputs": [
    {
     "data": {
      "text/plain": [
       "[np.float64(59379.87227105263),\n",
       " np.float64(98942.9642045718),\n",
       " np.float64(118724.51017133139),\n",
       " np.float64(158287.60210485058),\n",
       " np.float64(197850.69403836975)]"
      ]
     },
     "execution_count": 110,
     "metadata": {},
     "output_type": "execute_result"
    }
   ],
   "source": [
    "y_"
   ]
  },
  {
   "cell_type": "code",
   "execution_count": 111,
   "id": "627e8183-6755-4a63-a3ef-4ab9514ed3fc",
   "metadata": {},
   "outputs": [
    {
     "data": {
      "text/plain": [
       "np.float64(0.9808871278623448)"
      ]
     },
     "execution_count": 111,
     "metadata": {},
     "output_type": "execute_result"
    }
   ],
   "source": [
    "r2_score(y_train , y_) # (0,1) -> bigger is better "
   ]
  },
  {
   "cell_type": "code",
   "execution_count": null,
   "id": "77c0a522-0c33-4756-9092-cde9a67abeda",
   "metadata": {},
   "outputs": [],
   "source": []
  },
  {
   "cell_type": "markdown",
   "id": "c4e0fca3-6070-4701-8db2-a8dc25547c13",
   "metadata": {},
   "source": [
    "### Prediction\n"
   ]
  },
  {
   "cell_type": "code",
   "execution_count": null,
   "id": "ad5e19c9-e04f-46f4-8f29-3e7ac25aa52b",
   "metadata": {},
   "outputs": [],
   "source": [
    "x_train = np.array([30, 50, 60, 80, 100]) # x - size of house in mp \n",
    "y_train = np.array([70000, 100000, 120000, 150000, 200000]) # y - price of house "
   ]
  },
  {
   "cell_type": "code",
   "execution_count": 88,
   "id": "7af4ac4d-871a-4cc7-a9e3-8085b6f0d832",
   "metadata": {},
   "outputs": [
    {
     "name": "stdout",
     "output_type": "stream",
     "text": [
      "A house with size 20 m² has a price of: 3.96e+04$\n"
     ]
    }
   ],
   "source": [
    "size_of_house = 20\n",
    "print(f\"A house with size {size_of_house} m² has a price of: {w_final * size_of_house + b_final:.4}$\")"
   ]
  },
  {
   "cell_type": "code",
   "execution_count": 89,
   "id": "8efd317d-3dc5-466c-b9aa-f2c63aa591c1",
   "metadata": {},
   "outputs": [
    {
     "name": "stdout",
     "output_type": "stream",
     "text": [
      "A house with size 30 m² has a price of: 5.938e+04$\n"
     ]
    }
   ],
   "source": [
    "size_of_house = 30\n",
    "print(f\"A house with size {size_of_house} m² has a price of: {w_final * size_of_house + b_final:.4}$\")"
   ]
  },
  {
   "cell_type": "code",
   "execution_count": 90,
   "id": "1f72fd44-cff1-4f7a-9798-f119d2c2b2ac",
   "metadata": {},
   "outputs": [
    {
     "name": "stdout",
     "output_type": "stream",
     "text": [
      "A house with size 50 m² has a price of: 9.894e+04$\n"
     ]
    }
   ],
   "source": [
    "size_of_house = 50\n",
    "print(f\"A house with size {size_of_house} m² has a price of: {w_final * size_of_house + b_final:.4}$\")"
   ]
  },
  {
   "cell_type": "code",
   "execution_count": 91,
   "id": "ecae8899-2ef3-487a-8bc0-2145d9618547",
   "metadata": {},
   "outputs": [
    {
     "name": "stdout",
     "output_type": "stream",
     "text": [
      "A house with size 60 m² has a price of: 1.187e+05$\n"
     ]
    }
   ],
   "source": [
    "size_of_house = 60\n",
    "print(f\"A house with size {size_of_house} m² has a price of: {w_final * size_of_house + b_final:.4}$\")"
   ]
  },
  {
   "cell_type": "code",
   "execution_count": 97,
   "id": "799d19be-9543-4562-bdf1-a6e6fc0178b1",
   "metadata": {},
   "outputs": [
    {
     "name": "stdout",
     "output_type": "stream",
     "text": [
      "A house with size 100 m² has a price of: 1.979e+05$\n"
     ]
    }
   ],
   "source": [
    "size_of_house = 100\n",
    "print(f\"A house with size {size_of_house} m² has a price of: {w_final * size_of_house + b_final:.4}$\")"
   ]
  },
  {
   "cell_type": "code",
   "execution_count": 98,
   "id": "5f678288-2c4d-435e-b1c9-97ecddcbea3c",
   "metadata": {},
   "outputs": [
    {
     "data": {
      "text/plain": [
       "<function matplotlib.pyplot.show(close=None, block=None)>"
      ]
     },
     "execution_count": 98,
     "metadata": {},
     "output_type": "execute_result"
    },
    {
     "data": {
      "image/png": "[encoded data removed]",
      "text/plain": [
       "<Figure size 640x480 with 1 Axes>"
      ]
     },
     "metadata": {},
     "output_type": "display_data"
    }
   ],
   "source": [
    "plt.scatter(x_train, y_train)\n",
    "plt.plot(x_train, w_final * x_train + b_final, c='r')\n",
    "plt.show\n",
    "        "
   ]
  },
  {
   "cell_type": "code",
   "execution_count": null,
   "id": "f585a0e8-648a-41a5-aa22-0ce2b1ae9b6b",
   "metadata": {},
   "outputs": [],
   "source": []
  },
  {
   "cell_type": "code",
   "execution_count": null,
   "id": "a84fc2c9-eb88-4e0e-a2d1-8d0fdb2e7121",
   "metadata": {},
   "outputs": [],
   "source": []
  }
 ],
 "metadata": {
  "kernelspec": {
   "display_name": "Python 3 (ipykernel)",
   "language": "python",
   "name": "python3"
  },
  "language_info": {
   "codemirror_mode": {
    "name": "ipython",
    "version": 3
   },
   "file_extension": ".py",
   "mimetype": "text/x-python",
   "name": "python",
   "nbconvert_exporter": "python",
   "pygments_lexer": "ipython3",
   "version": "3.13.2"
  }
 },
 "nbformat": 4,
 "nbformat_minor": 5
}
